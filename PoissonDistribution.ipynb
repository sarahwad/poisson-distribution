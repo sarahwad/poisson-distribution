{
 "cells": [
  {
   "cell_type": "code",
   "execution_count": 29,
   "metadata": {},
   "outputs": [],
   "source": [
    "import scipy"
   ]
  },
  {
   "cell_type": "code",
   "execution_count": 30,
   "metadata": {},
   "outputs": [
    {
     "name": "stdout",
     "output_type": "stream",
     "text": [
      "0.07160440945982202\n"
     ]
    }
   ],
   "source": [
    "# Documentation: \n",
    "#https://docs.scipy.org/doc/scipy/reference/generated/scipy.stats.poisson.html\n",
    "\n",
    "# The Poisson Distribution Function takes two arguments: k and λ as:\n",
    "# scipy.stats.poisson.pmf(k, λ)\n",
    "\n",
    "answer = scipy.stats.poisson.pmf(6,3.4)\n",
    "\n",
    "# Print Result\n",
    "print(answer)"
   ]
  },
  {
   "cell_type": "code",
   "execution_count": 34,
   "metadata": {},
   "outputs": [
    {
     "name": "stdout",
     "output_type": "stream",
     "text": [
      "Probability for k <= λ:  0.0\n",
      "Probability for k > λ:  1.0\n"
     ]
    }
   ],
   "source": [
    "def Poisson_Distribution(lamda, k):\n",
    "    \n",
    "    # Probability at most k\n",
    "    atmost = scipy.stats.poisson.pmf(k, lamda)\n",
    "    # Probability more than k\n",
    "    morethan = 1 - atmost\n",
    "    \n",
    "    print('Probability for k <= λ: ',atmost)\n",
    "    print('Probability for k > λ: ',morethan)\n",
    "\n",
    "Poisson_Distribution(2.0, 0.5)"
   ]
  },
  {
   "cell_type": "code",
   "execution_count": 3,
   "metadata": {},
   "outputs": [
    {
     "data": {
      "text/plain": [
       "[Text(0, 0.5, 'Frequency'), Text(0.5, 0, 'Poisson Distribution')]"
      ]
     },
     "execution_count": 3,
     "metadata": {},
     "output_type": "execute_result"
    },
    {
     "data": {
      "image/png": "[encoded data removed]",
      "text/plain": [
       "<Figure size 432x288 with 1 Axes>"
      ]
     },
     "metadata": {
      "needs_background": "light"
     },
     "output_type": "display_data"
    }
   ],
   "source": [
    "import matplotlib.pyplot as plt\n",
    "import seaborn as sns\n",
    "from scipy.stats import poisson\n",
    "\n",
    "data_poisson = poisson.rvs(mu=3, size=10000)\n",
    "\n",
    "# poisson.rvs() method takes arguments:\n",
    "# 1. μ: as a shape parameter and is nothing but the λ equasion.\n",
    "# 2. size: decides the number of random variates in the distribution. \n",
    "\n",
    "# To maintain reproducibility, include a random_state argument assigned to a number.\n",
    "\n",
    "\n",
    "# Documentation:\n",
    "# https://seaborn.pydata.org/generated/seaborn.distplot.html\n",
    "\n",
    "# Plotting Function\n",
    "ax = sns.distplot(data_poisson,     \n",
    "                  bins=30,\n",
    "                  kde=False,\n",
    "                  kde_kws={\"lw\": 2},\n",
    "                  color='skyblue',\n",
    "                  hist_kws={\"linewidth\": 15,'alpha':1})\n",
    "\n",
    "sns.set_color_codes()\n",
    "ax.set(xlabel='Poisson Distribution', ylabel='Frequency')"
   ]
  },
  {
   "cell_type": "code",
   "execution_count": 2,
   "metadata": {},
   "outputs": [
    {
     "data": {
      "text/plain": [
       "<matplotlib.collections.LineCollection at 0x7f9b72d5da50>"
      ]
     },
     "execution_count": 2,
     "metadata": {},
     "output_type": "execute_result"
    },
    {
     "data": {
      "image/png": "[encoded data removed]",
      "text/plain": [
       "<Figure size 432x288 with 1 Axes>"
      ]
     },
     "metadata": {
      "needs_background": "light"
     },
     "output_type": "display_data"
    }
   ],
   "source": [
    "from scipy.stats import poisson\n",
    "import matplotlib.pyplot as plt\n",
    "import numpy as np\n",
    "\n",
    "fig, ax = plt.subplots(1, 1)\n",
    "mu = 0.5\n",
    "mean, var, skew, kurt = poisson.stats(mu, moments='mvsk')\n",
    "\n",
    "x = np.arange(poisson.ppf(0.01, mu), poisson.ppf(0.99, mu))\n",
    "ax.plot(x, poisson.pmf(x, mu), 'bo', ms=8, label='poisson pmf')\n",
    "ax.vlines(x, 0, poisson.pmf(x, mu), colors='b', lw=5, alpha=0.5)"
   ]
  },
  {
   "cell_type": "code",
   "execution_count": null,
   "metadata": {},
   "outputs": [],
   "source": []
  }
 ],
 "metadata": {
  "kernelspec": {
   "display_name": "Python 3",
   "language": "python",
   "name": "python3"
  },
  "language_info": {
   "codemirror_mode": {
    "name": "ipython",
    "version": 3
   },
   "file_extension": ".py",
   "mimetype": "text/x-python",
   "name": "python",
   "nbconvert_exporter": "python",
   "pygments_lexer": "ipython3",
   "version": "3.7.7"
  }
 },
 "nbformat": 4,
 "nbformat_minor": 4
}
